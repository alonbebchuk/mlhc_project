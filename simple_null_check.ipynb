{
  "cells": [
    {
      "cell_type": "raw",
      "metadata": {
        "vscode": {
          "languageId": "raw"
        }
      },
      "source": [
        "# Simple Null Values Count - MIMIC-III\n",
        "\n",
        "Count null values per column in admissions and patients tables.\n"
      ]
    },
    {
      "cell_type": "code",
      "execution_count": 9,
      "metadata": {},
      "outputs": [],
      "source": [
        "import pandas as pd\n",
        "import duckdb\n",
        "import os\n"
      ]
    },
    {
      "cell_type": "code",
      "execution_count": 10,
      "metadata": {},
      "outputs": [],
      "source": [
        "# Database connection\n",
        "# Update this path to your MIMIC-III database location\n",
        "drive_path = r'H:\\My Drive\\MIMIC-III'\n",
        "con = duckdb.connect(f'{drive_path}/mimiciii.duckdb')\n"
      ]
    },
    {
      "cell_type": "code",
      "execution_count": 11,
      "metadata": {},
      "outputs": [
        {
          "name": "stdout",
          "output_type": "stream",
          "text": [
            "ADMISSIONS TABLE - Null Counts:\n"
          ]
        },
        {
          "data": {
            "text/html": [
              "<div>\n",
              "<style scoped>\n",
              "    .dataframe tbody tr th:only-of-type {\n",
              "        vertical-align: middle;\n",
              "    }\n",
              "\n",
              "    .dataframe tbody tr th {\n",
              "        vertical-align: top;\n",
              "    }\n",
              "\n",
              "    .dataframe thead th {\n",
              "        text-align: right;\n",
              "    }\n",
              "</style>\n",
              "<table border=\"1\" class=\"dataframe\">\n",
              "  <thead>\n",
              "    <tr style=\"text-align: right;\">\n",
              "      <th></th>\n",
              "      <th>total_records</th>\n",
              "      <th>subject_id_nulls</th>\n",
              "      <th>hadm_id_nulls</th>\n",
              "      <th>admittime_nulls</th>\n",
              "      <th>dischtime_nulls</th>\n",
              "      <th>admission_type_nulls</th>\n",
              "      <th>admission_location_nulls</th>\n",
              "      <th>insurance_nulls</th>\n",
              "      <th>language_nulls</th>\n",
              "      <th>religion_nulls</th>\n",
              "      <th>marital_status_nulls</th>\n",
              "      <th>ethnicity_nulls</th>\n",
              "    </tr>\n",
              "  </thead>\n",
              "  <tbody>\n",
              "    <tr>\n",
              "      <th>0</th>\n",
              "      <td>58976</td>\n",
              "      <td>0.0</td>\n",
              "      <td>0.0</td>\n",
              "      <td>0.0</td>\n",
              "      <td>0.0</td>\n",
              "      <td>0.0</td>\n",
              "      <td>0.0</td>\n",
              "      <td>0.0</td>\n",
              "      <td>25332.0</td>\n",
              "      <td>458.0</td>\n",
              "      <td>10128.0</td>\n",
              "      <td>0.0</td>\n",
              "    </tr>\n",
              "  </tbody>\n",
              "</table>\n",
              "</div>"
            ],
            "text/plain": [
              "   total_records  subject_id_nulls  hadm_id_nulls  admittime_nulls  \\\n",
              "0          58976               0.0            0.0              0.0   \n",
              "\n",
              "   dischtime_nulls  admission_type_nulls  admission_location_nulls  \\\n",
              "0              0.0                   0.0                       0.0   \n",
              "\n",
              "   insurance_nulls  language_nulls  religion_nulls  marital_status_nulls  \\\n",
              "0              0.0         25332.0           458.0               10128.0   \n",
              "\n",
              "   ethnicity_nulls  \n",
              "0              0.0  "
            ]
          },
          "execution_count": 11,
          "metadata": {},
          "output_type": "execute_result"
        }
      ],
      "source": [
        "# Get null counts for admissions table\n",
        "admissions_query = \"\"\"\n",
        "SELECT \n",
        "    COUNT(*) as total_records,\n",
        "    SUM(CASE WHEN subject_id IS NULL THEN 1 ELSE 0 END) as subject_id_nulls,\n",
        "    SUM(CASE WHEN hadm_id IS NULL THEN 1 ELSE 0 END) as hadm_id_nulls,\n",
        "    SUM(CASE WHEN admittime IS NULL THEN 1 ELSE 0 END) as admittime_nulls,\n",
        "    SUM(CASE WHEN dischtime IS NULL THEN 1 ELSE 0 END) as dischtime_nulls,\n",
        "    SUM(CASE WHEN admission_type IS NULL THEN 1 ELSE 0 END) as admission_type_nulls,\n",
        "    SUM(CASE WHEN admission_location IS NULL THEN 1 ELSE 0 END) as admission_location_nulls,\n",
        "    SUM(CASE WHEN insurance IS NULL THEN 1 ELSE 0 END) as insurance_nulls,\n",
        "    SUM(CASE WHEN language IS NULL THEN 1 ELSE 0 END) as language_nulls,\n",
        "    SUM(CASE WHEN religion IS NULL THEN 1 ELSE 0 END) as religion_nulls,\n",
        "    SUM(CASE WHEN marital_status IS NULL THEN 1 ELSE 0 END) as marital_status_nulls,\n",
        "    SUM(CASE WHEN ethnicity IS NULL THEN 1 ELSE 0 END) as ethnicity_nulls\n",
        "FROM admissions;\n",
        "\"\"\"\n",
        "\n",
        "print(\"ADMISSIONS TABLE - Null Counts:\")\n",
        "admissions_nulls = con.execute(admissions_query).fetchdf()\n",
        "admissions_nulls\n"
      ]
    },
    {
      "cell_type": "code",
      "execution_count": 12,
      "metadata": {},
      "outputs": [
        {
          "name": "stdout",
          "output_type": "stream",
          "text": [
            "PATIENTS TABLE - Null Counts:\n"
          ]
        },
        {
          "data": {
            "text/html": [
              "<div>\n",
              "<style scoped>\n",
              "    .dataframe tbody tr th:only-of-type {\n",
              "        vertical-align: middle;\n",
              "    }\n",
              "\n",
              "    .dataframe tbody tr th {\n",
              "        vertical-align: top;\n",
              "    }\n",
              "\n",
              "    .dataframe thead th {\n",
              "        text-align: right;\n",
              "    }\n",
              "</style>\n",
              "<table border=\"1\" class=\"dataframe\">\n",
              "  <thead>\n",
              "    <tr style=\"text-align: right;\">\n",
              "      <th></th>\n",
              "      <th>gender_nulls</th>\n",
              "      <th>dob_nulls</th>\n",
              "    </tr>\n",
              "  </thead>\n",
              "  <tbody>\n",
              "    <tr>\n",
              "      <th>0</th>\n",
              "      <td>0.0</td>\n",
              "      <td>0.0</td>\n",
              "    </tr>\n",
              "  </tbody>\n",
              "</table>\n",
              "</div>"
            ],
            "text/plain": [
              "   gender_nulls  dob_nulls\n",
              "0           0.0        0.0"
            ]
          },
          "execution_count": 12,
          "metadata": {},
          "output_type": "execute_result"
        }
      ],
      "source": [
        "# Get null counts for patients table\n",
        "patients_query = \"\"\"\n",
        "SELECT \n",
        "    SUM(CASE WHEN gender IS NULL THEN 1 ELSE 0 END) as gender_nulls,\n",
        "    SUM(CASE WHEN dob IS NULL THEN 1 ELSE 0 END) as dob_nulls\n",
        "FROM patients;\n",
        "\"\"\"\n",
        "\n",
        "print(\"PATIENTS TABLE - Null Counts:\")\n",
        "patients_nulls = con.execute(patients_query).fetchdf()\n",
        "patients_nulls\n"
      ]
    },
    {
      "cell_type": "code",
      "execution_count": 13,
      "metadata": {},
      "outputs": [],
      "source": [
        "# Close connection\n",
        "con.close()\n"
      ]
    }
  ],
  "metadata": {
    "kernelspec": {
      "display_name": "mlhc-project",
      "language": "python",
      "name": "python3"
    },
    "language_info": {
      "codemirror_mode": {
        "name": "ipython",
        "version": 3
      },
      "file_extension": ".py",
      "mimetype": "text/x-python",
      "name": "python",
      "nbconvert_exporter": "python",
      "pygments_lexer": "ipython3",
      "version": "3.13.5"
    }
  },
  "nbformat": 4,
  "nbformat_minor": 2
}
